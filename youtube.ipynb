{
 "cells": [
  {
   "cell_type": "code",
   "execution_count": 3,
   "id": "2bd9bd10",
   "metadata": {},
   "outputs": [],
   "source": [
    "from tkinter import *\n",
    "from tkinter import filedialog\n",
    "from tkinter import messagebox\n",
    "from pytube import YouTube"
   ]
  },
  {
   "cell_type": "code",
   "execution_count": null,
   "id": "effbacbd",
   "metadata": {},
   "outputs": [
    {
     "name": "stdout",
     "output_type": "stream",
     "text": [
      "https://www.youtube.com/watch?v=EPPHMPAfJvM\n",
      "You Broke Me First I Jujutsu Kaisen [AMV/Edit]\n"
     ]
    },
    {
     "name": "stderr",
     "output_type": "stream",
     "text": [
      "C:\\Users\\ASHU\\AppData\\Local\\Temp/ipykernel_12832/2392576260.py:27: DeprecationWarning: Call to deprecated function all (This object can be treated as a list, all() is useless).\n",
      "  videos = yt.streams.filter(mime_type='video/mp4').all()\n"
     ]
    }
   ],
   "source": [
    "def clickDownload():\n",
    "    if(getURL.get() == \"\"):\n",
    "        messagebox.showinfo(\"ERROR\", \"ENTER url \")\n",
    "        return\n",
    "    elif (getLoc.get() == \"\"):\n",
    "        messagebox.showinfo(\"ERROR\", \"ENTER LOCATION \")\n",
    "        return\n",
    "\n",
    "    select = listbox.curselection()\n",
    "    quality = videos[select[0]]\n",
    "    location = getLoc.get()\n",
    "    quality.download(location)\n",
    "    messagebox.showinfo(\"Downloading Finish\", yt.title+\" has been downloaded Sucessfully!!!\")\n",
    "\n",
    "def setURL():\n",
    "    #Get URL of the Video\n",
    "    url = getURL.get()\n",
    "    print(url)\n",
    "\n",
    "    #Create Object to hold the URL\n",
    "    global yt\n",
    "    yt = YouTube(url)\n",
    "    print(yt.title)\n",
    "\n",
    "    # Get the Quality of the Videos and store in the 'videos' variable\n",
    "    global videos\n",
    "    videos = yt.streams.filter(mime_type='video/mp4').all()\n",
    "\n",
    "    #Get Quality and display as list in the Listbox\n",
    "    count = 1\n",
    "    for v in videos:\n",
    "        listbox.insert(END, str(count)+\". \"+str(v)+\"\\n\\n\")\n",
    "        count += 1\n",
    "\n",
    "\n",
    "def clickBrowse():\n",
    "    location_of_download = filedialog.askdirectory()\n",
    "    getLoc.set(location_of_download)\n",
    "\n",
    "def clickReset():\n",
    "    getURL.set(\"\")\n",
    "    getLoc.set(\"\")\n",
    "    listbox.delete(0,END)\n",
    "\n",
    "#Create Root Object\n",
    "root = Tk()\n",
    "\n",
    "#Set Title\n",
    "root.title(\"YouTube Video Dowloader\")\n",
    "\n",
    "#Set size of window\n",
    "root.geometry(\"855x500\")\n",
    "\n",
    "#Make the Window not Resizeable\n",
    "root.resizable(False, False)\n",
    "\n",
    "#Set Labels\n",
    "headLabel       = Label(root,   text=\"YOUTUBE VIDEO DOWNLOADER\",  font=(\"Century Gothic\",25)).grid(row=0, column=1, padx=10, pady=10)\n",
    "urlLabel        = Label(root,   text=\"URL\",                 font=(\"Century Gothic\",15)).grid(row=1, column=0, padx=10, pady=10)\n",
    "qualityLabel    = Label(root,   text=\"SELECT QUALITY\",      font=(\"Century Gothic\",15)).grid(row=2, column=0, padx=10, pady=10)\n",
    "locLabel        = Label(root,   text=\"LOCATION\",            font=(\"Century Gothic\",15)).grid(row=3, column=0, padx=10, pady=10)\n",
    "\n",
    "#Get Input\n",
    "getURL = StringVar()\n",
    "getLoc = StringVar()\n",
    "\n",
    "#Set Entry\n",
    "urlEntry    = Entry(root,   font=(\"Century Gothic\",12), textvariable = getURL, width = 50, bd=3, relief=SOLID, borderwidth=1).grid(row=1,column=1, padx=10, pady=10)\n",
    "locEntry    = Entry(root,   font=(\"Century Gothic\",12), textvariable = getLoc, width = 50, bd=3, relief=SOLID, borderwidth=1).grid(row=3,column=1, padx=10, pady=10)\n",
    "\n",
    "#List box for video Quality\n",
    "listbox     = Listbox(root, font=(\"Century Gothic\",11), width = 56, height = 12, bd=3, relief=SOLID, borderwidth=1)\n",
    "listbox.grid(row=2,column=1, padx=10, pady=10)\n",
    "\n",
    "#Set Buttons\n",
    "urlButton       = Button(root, text = \"SET URL\",    font=(\"Century Gothic\",10), width=15, relief=SOLID, borderwidth=1, command=setURL).grid(row=1, column=2, padx=10, pady=10)\n",
    "browseButton    = Button(root, text = \"BROWSE\",     font=(\"Century Gothic\",10), width=15, relief=SOLID, borderwidth=1, command=clickBrowse).grid(row=3, column=2, padx=10, pady=10)\n",
    "downloadButton  = Button(root, text = \"DOWNLOAD\",   font=(\"Century Gothic\",10), width=15, relief=SOLID, borderwidth=1, command=clickDownload).grid(row=4, column=1, padx=10, pady=10)\n",
    "resetButton     = Button(root, text = \"CLEAR ALL\",  font=(\"Century Gothic\",10), width=15, relief=SOLID, borderwidth=1, command=clickReset).grid(row=4, column=2, padx=10, pady=10)\n",
    "\n",
    "\n",
    "#Set an infinite loop so window stays in view\n",
    "root.mainloop()"
   ]
  },
  {
   "cell_type": "code",
   "execution_count": null,
   "id": "b07e9dc9",
   "metadata": {},
   "outputs": [],
   "source": []
  },
  {
   "cell_type": "code",
   "execution_count": null,
   "id": "d67f278a",
   "metadata": {},
   "outputs": [],
   "source": []
  }
 ],
 "metadata": {
  "kernelspec": {
   "display_name": "Python 3 (ipykernel)",
   "language": "python",
   "name": "python3"
  },
  "language_info": {
   "codemirror_mode": {
    "name": "ipython",
    "version": 3
   },
   "file_extension": ".py",
   "mimetype": "text/x-python",
   "name": "python",
   "nbconvert_exporter": "python",
   "pygments_lexer": "ipython3",
   "version": "3.9.7"
  }
 },
 "nbformat": 4,
 "nbformat_minor": 5
}
